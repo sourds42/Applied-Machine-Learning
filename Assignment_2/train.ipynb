{
  "nbformat": 4,
  "nbformat_minor": 0,
  "metadata": {
    "colab": {
      "provenance": []
    },
    "kernelspec": {
      "name": "python3",
      "display_name": "Python 3"
    },
    "language_info": {
      "name": "python"
    }
  },
  "cells": [
    {
      "cell_type": "code",
      "execution_count": 80,
      "metadata": {
        "id": "WB7eHRWn_LRV"
      },
      "outputs": [],
      "source": [
        "import matplotlib.pyplot as plt\n",
        "import csv\n",
        "from textblob import TextBlob\n",
        "import pandas as pd\n",
        "import sklearn\n",
        "import numpy as np\n",
        "from sklearn.feature_extraction.text import CountVectorizer, TfidfTransformer\n",
        "from sklearn.svm import SVC, LinearSVC\n",
        "from sklearn.metrics import classification_report, f1_score, accuracy_score, confusion_matrix\n",
        "from sklearn.pipeline import Pipeline\n",
        "from sklearn.model_selection import GridSearchCV\n",
        "from sklearn.model_selection import StratifiedKFold, cross_val_score, train_test_split\n",
        "from sklearn.tree import DecisionTreeClassifier\n",
        "from sklearn.model_selection import learning_curve\n",
        "from nltk.corpus import stopwords\n",
        "from nltk.tokenize import word_tokenize\n",
        "import os\n",
        "from sklearn.ensemble import RandomForestClassifier\n",
        "from sklearn.linear_model import LogisticRegression\n",
        "from sklearn.svm import SVC\n",
        "from sklearn.metrics import accuracy_score, precision_score, recall_score\n",
        "from sklearn.model_selection import GridSearchCV\n",
        "import numpy as np\n",
        "from sklearn.ensemble import RandomForestClassifier\n",
        "from sklearn.linear_model import LogisticRegression\n",
        "from sklearn.svm import SVC\n",
        "from sklearn.metrics import accuracy_score, precision_score, recall_score\n",
        "from sklearn.model_selection import GridSearchCV"
      ]
    },
    {
      "cell_type": "markdown",
      "source": [
        "**Importing train, validation and test set**"
      ],
      "metadata": {
        "id": "xg9lvkNJVs_b"
      }
    },
    {
      "cell_type": "code",
      "source": [
        "train_data = pd.read_csv(\"/train (1).csv\")\n",
        "validation_data=pd.read_csv(\"/content/test.csv\")\n",
        "test_data=pd.read_csv(\"/content/validation.csv\")"
      ],
      "metadata": {
        "id": "PXaMIeH6AtgU"
      },
      "execution_count": 75,
      "outputs": []
    },
    {
      "cell_type": "markdown",
      "source": [
        "**Assigning labels, vectorizing the text data, applying TF-IDF**"
      ],
      "metadata": {
        "id": "jyGm76keV0r4"
      }
    },
    {
      "cell_type": "code",
      "source": [
        "# Assign features and labels\n",
        "X_train = train_data['processed_text']\n",
        "y_train = train_data['spam']\n",
        "X_val = validation_data['processed_text']\n",
        "y_val = validation_data['spam']\n",
        "\n",
        "X_test = test_data['processed_text']\n",
        "y_test = test_data['spam']\n",
        "\n",
        "X_train = X_train.fillna('')\n",
        "\n",
        "# Vectorize the text data using CountVectorizer\n",
        "vectorizer = CountVectorizer()\n",
        "X_train_counts = vectorizer.fit_transform(X_train)\n",
        "X_val_counts = vectorizer.transform(X_val)\n",
        "X_test_counts = vectorizer.transform(X_test)\n",
        "\n",
        "# Apply TF-IDF transformation\n",
        "tfidf_transformer = TfidfTransformer()\n",
        "X_train_vec = tfidf_transformer.fit_transform(X_train_counts)\n",
        "X_val_vec = tfidf_transformer.transform(X_val_counts)\n",
        "X_test_vec = tfidf_transformer.transform(X_test_counts)\n",
        "\n",
        "\n"
      ],
      "metadata": {
        "id": "k7zF0zu9MEuc"
      },
      "execution_count": 97,
      "outputs": []
    },
    {
      "cell_type": "markdown",
      "source": [
        "**Random Forest**"
      ],
      "metadata": {
        "id": "OVKwvI5KWFmc"
      }
    },
    {
      "cell_type": "code",
      "source": [
        "from sklearn.metrics import confusion_matrix\n",
        "\n",
        "# Random Forest\n",
        "rf_classifier = RandomForestClassifier()\n",
        "rf_classifier.fit(X_train_vec, y_train)\n",
        "rf_predictions = rf_classifier.predict(X_test_vec)\n",
        "\n",
        "rf_accuracy = accuracy_score(y_test, rf_predictions)\n",
        "rf_precision = precision_score(y_test, rf_predictions)\n",
        "rf_recall = recall_score(y_test, rf_predictions)\n",
        "\n",
        "print(\"Random Forest Validation Metrics:\")\n",
        "print(\"Accuracy:\", rf_accuracy)\n",
        "print(\"Precision:\", rf_precision)\n",
        "print(\"Recall:\", rf_recall)\n",
        "\n",
        "# Confusion Matrix\n",
        "conf_matrix = confusion_matrix(y_test, rf_predictions)\n",
        "print(\"\\nConfusion Matrix:\")\n",
        "print(conf_matrix)\n"
      ],
      "metadata": {
        "colab": {
          "base_uri": "https://localhost:8080/"
        },
        "id": "XehYEAMAMePz",
        "outputId": "888a36ea-13bb-4b69-e9d7-e55033e0a9b3"
      },
      "execution_count": 99,
      "outputs": [
        {
          "output_type": "stream",
          "name": "stdout",
          "text": [
            "Random Forest Validation Metrics:\n",
            "Accuracy: 0.9634369287020109\n",
            "Precision: 0.9831081081081081\n",
            "Recall: 0.9509803921568627\n",
            "\n",
            "Confusion Matrix:\n",
            "[[236   5]\n",
            " [ 15 291]]\n"
          ]
        }
      ]
    },
    {
      "cell_type": "markdown",
      "source": [
        "**Hyperparameter Tuning**"
      ],
      "metadata": {
        "id": "w_nuLSFcWJfT"
      }
    },
    {
      "cell_type": "code",
      "source": [
        "rf_param_grid = {'n_estimators': [100, 200, 300],\n",
        "                 'max_depth': [None, 10, 20]}\n",
        "\n",
        "rf_grid_search = GridSearchCV(RandomForestClassifier(), rf_param_grid, cv=5, n_jobs=-1)\n",
        "rf_grid_search.fit(X_val_vec, y_val)\n",
        "\n",
        "print(\"\\nRandom Forest Best Parameters:\", rf_grid_search.best_params_)\n",
        "print(\"Random Forest Best Score:\", rf_grid_search.best_score_)"
      ],
      "metadata": {
        "colab": {
          "base_uri": "https://localhost:8080/"
        },
        "id": "TqNem1azNODB",
        "outputId": "e290c284-0e57-436a-f5e2-16e483fe0fea"
      },
      "execution_count": 100,
      "outputs": [
        {
          "output_type": "stream",
          "name": "stdout",
          "text": [
            "\n",
            "Random Forest Best Parameters: {'max_depth': None, 'n_estimators': 300}\n",
            "Random Forest Best Score: 0.9543786488740619\n"
          ]
        }
      ]
    },
    {
      "cell_type": "markdown",
      "source": [
        "**Fitting the best hyperparameters values and checking the performance of the model**"
      ],
      "metadata": {
        "id": "4iHE5WS5WPbR"
      }
    },
    {
      "cell_type": "code",
      "source": [
        "best_rf = RandomForestClassifier(n_estimators=rf_grid_search.best_params_['n_estimators'],\n",
        "                                  max_depth=rf_grid_search.best_params_['max_depth'])\n",
        "\n",
        "# Fit models to training data\n",
        "best_rf.fit(X_train_vec, y_train)\n",
        "\n",
        "# Predict on test set\n",
        "rf_test_predictions = best_rf.predict(X_test_vec)\n",
        "# Evaluate performance on test set\n",
        "rf_test_accuracy = accuracy_score(y_test, rf_test_predictions)\n",
        "\n",
        "rf_test_precision = precision_score(y_test, rf_test_predictions)\n",
        "rf_test_recall = recall_score(y_test, rf_test_predictions)\n",
        "\n",
        "print(\"Random Forest Validation Metrics:\")\n",
        "print(\"Accuracy:\", rf_test_accuracy)\n",
        "print(\"Precision:\", rf_test_precision)\n",
        "print(\"Recall:\", rf_test_recall)\n",
        "\n",
        "# Confusion Matrix\n",
        "conf_matrix = confusion_matrix(y_test, rf_test_predictions)\n",
        "print(\"\\nConfusion Matrix:\")\n",
        "print(conf_matrix)\n"
      ],
      "metadata": {
        "colab": {
          "base_uri": "https://localhost:8080/"
        },
        "id": "Kk9nEfSoLmjY",
        "outputId": "d342039e-cf44-479d-ac74-5fdec8e33fe5"
      },
      "execution_count": 112,
      "outputs": [
        {
          "output_type": "stream",
          "name": "stdout",
          "text": [
            "Random Forest Validation Metrics:\n",
            "Accuracy: 0.9725776965265083\n",
            "Precision: 0.9932203389830508\n",
            "Recall: 0.9575163398692811\n",
            "\n",
            "Confusion Matrix:\n",
            "[[239   2]\n",
            " [ 13 293]]\n"
          ]
        }
      ]
    },
    {
      "cell_type": "markdown",
      "source": [
        "**Logistic Regression**"
      ],
      "metadata": {
        "id": "9nJcKF2VWbYT"
      }
    },
    {
      "cell_type": "code",
      "source": [
        "# Logistic Regression\n",
        "lr_classifier = LogisticRegression()\n",
        "lr_classifier.fit(X_train_vec, y_train)\n",
        "lr_predictions = lr_classifier.predict(X_test_vec)\n",
        "\n",
        "lr_accuracy = accuracy_score(y_test, lr_predictions)\n",
        "lr_precision = precision_score(y_test, lr_predictions)\n",
        "lr_recall = recall_score(y_test, lr_predictions)\n",
        "\n",
        "print(\"\\nLogistic Regression Validation Metrics:\")\n",
        "print(\"Accuracy:\", lr_accuracy)\n",
        "print(\"Precision:\", lr_precision)\n",
        "print(\"Recall:\", lr_recall)\n",
        "# Confusion Matrix\n",
        "conf_matrix = confusion_matrix(y_test, lr_predictions)\n",
        "print(\"\\nConfusion Matrix:\")\n",
        "print(conf_matrix)\n"
      ],
      "metadata": {
        "colab": {
          "base_uri": "https://localhost:8080/"
        },
        "id": "BmZ9mffoQX0c",
        "outputId": "477498eb-5b9b-43c3-d4f7-136e8588dbee"
      },
      "execution_count": 109,
      "outputs": [
        {
          "output_type": "stream",
          "name": "stdout",
          "text": [
            "\n",
            "Logistic Regression Validation Metrics:\n",
            "Accuracy: 0.9872029250457038\n",
            "Precision: 0.9807073954983923\n",
            "Recall: 0.9967320261437909\n",
            "\n",
            "Confusion Matrix:\n",
            "[[235   6]\n",
            " [  1 305]]\n"
          ]
        }
      ]
    },
    {
      "cell_type": "markdown",
      "source": [
        "**Hyperparameter Tuning**"
      ],
      "metadata": {
        "id": "2F14MGsIWiOr"
      }
    },
    {
      "cell_type": "code",
      "source": [
        "# Logistic Regression\n",
        "lr_param_grid = {'C': [0.001, 0.01, 0.1, 1, 10, 100]}\n",
        "\n",
        "lr_grid_search = GridSearchCV(LogisticRegression(), lr_param_grid, cv=5, n_jobs=-1)\n",
        "lr_grid_search.fit(X_val_vec, y_val)\n",
        "\n",
        "print(\"\\nLogistic Regression Best Parameters:\", lr_grid_search.best_params_)\n",
        "print(\"Logistic Regression Best Score:\", lr_grid_search.best_score_)"
      ],
      "metadata": {
        "colab": {
          "base_uri": "https://localhost:8080/"
        },
        "id": "RH4ZksvCQ-Pe",
        "outputId": "3d3fad0c-415e-4590-b80f-fdd62ab32a86"
      },
      "execution_count": 114,
      "outputs": [
        {
          "output_type": "stream",
          "name": "stdout",
          "text": [
            "\n",
            "Logistic Regression Best Parameters: {'C': 100}\n",
            "Logistic Regression Best Score: 0.9762468723936614\n"
          ]
        }
      ]
    },
    {
      "cell_type": "markdown",
      "source": [
        "**Fitting the best hyperparameters values and checking the performance of the model**"
      ],
      "metadata": {
        "id": "wv1dgoU0WsMX"
      }
    },
    {
      "cell_type": "code",
      "source": [
        "best_lr = LogisticRegression(C=lr_grid_search.best_params_['C'])\n",
        "\n",
        "best_lr.fit(X_train_vec, y_train)\n",
        "lr_test_predictions = best_lr.predict(X_test_vec)\n",
        "\n",
        "lr_test_accuracy = accuracy_score(y_test, lr_test_predictions)\n",
        "lr_test_precision = precision_score(y_test, lr_test_predictions)\n",
        "lr_test_recall = recall_score(y_test, lr_test_predictions)\n",
        "\n",
        "print(\"\\nLogistic Regression Validation Metrics:\")\n",
        "print(\"Accuracy:\", lr_test_accuracy)\n",
        "print(\"Precision:\", lr_test_precision)\n",
        "print(\"Recall:\", lr_test_recall)\n",
        "\n",
        "\n",
        "# Confusion Matrix\n",
        "conf_matrix = confusion_matrix(y_test, lr_test_predictions)\n",
        "print(\"\\nConfusion Matrix:\")\n",
        "print(conf_matrix)"
      ],
      "metadata": {
        "colab": {
          "base_uri": "https://localhost:8080/"
        },
        "id": "--PgB2svRC4-",
        "outputId": "267a3684-8911-482b-9238-1dac4bda6f6c"
      },
      "execution_count": 118,
      "outputs": [
        {
          "output_type": "stream",
          "name": "stdout",
          "text": [
            "\n",
            "Logistic Regression Validation Metrics:\n",
            "Accuracy: 0.9908592321755028\n",
            "Precision: 0.9870550161812298\n",
            "Recall: 0.9967320261437909\n",
            "\n",
            "Confusion Matrix:\n",
            "[[237   4]\n",
            " [  1 305]]\n"
          ]
        }
      ]
    },
    {
      "cell_type": "markdown",
      "source": [
        "**Support Vector Machine**"
      ],
      "metadata": {
        "id": "UeugwqO-W28V"
      }
    },
    {
      "cell_type": "code",
      "source": [
        "# SVM\n",
        "svm_classifier = SVC()\n",
        "svm_classifier.fit(X_train_vec, y_train)\n",
        "svm_predictions = svm_classifier.predict(X_test_vec)\n",
        "\n",
        "svm_accuracy = accuracy_score(y_test, svm_predictions)\n",
        "svm_precision = precision_score(y_test, svm_predictions)\n",
        "svm_recall = recall_score(y_test, svm_predictions)\n",
        "\n",
        "print(\"\\nSVM Validation Metrics:\")\n",
        "print(\"Accuracy:\", svm_accuracy)\n",
        "print(\"Precision:\", svm_precision)\n",
        "print(\"Recall:\", svm_recall)\n",
        "# Confusion Matrix\n",
        "conf_matrix = confusion_matrix(y_test, svm_predictions)\n",
        "print(\"\\nConfusion Matrix:\")\n",
        "print(conf_matrix)"
      ],
      "metadata": {
        "colab": {
          "base_uri": "https://localhost:8080/"
        },
        "id": "n0v4Sc9KSESM",
        "outputId": "a19d155f-6c82-46b9-be0c-0b9a4b0458c3"
      },
      "execution_count": 120,
      "outputs": [
        {
          "output_type": "stream",
          "name": "stdout",
          "text": [
            "\n",
            "SVM Validation Metrics:\n",
            "Accuracy: 0.9890310786106032\n",
            "Precision: 0.9838709677419355\n",
            "Recall: 0.9967320261437909\n",
            "\n",
            "Confusion Matrix:\n",
            "[[236   5]\n",
            " [  1 305]]\n"
          ]
        }
      ]
    },
    {
      "cell_type": "markdown",
      "source": [
        "**Hyperparameter Tuning**"
      ],
      "metadata": {
        "id": "y-beyIswW7xd"
      }
    },
    {
      "cell_type": "code",
      "source": [
        "# SVM\n",
        "svm_param_grid = {'C': [0.1, 1, 5],\n",
        "                  'kernel': ['linear', 'rbf']}\n",
        "\n",
        "svm_grid_search = GridSearchCV(SVC(), svm_param_grid, cv=5, n_jobs=-1)\n",
        "svm_grid_search.fit(X_val_vec, y_val)\n",
        "\n",
        "print(\"\\nSVM Best Parameters:\", svm_grid_search.best_params_)\n",
        "print(\"SVM Best Score:\", svm_grid_search.best_score_)"
      ],
      "metadata": {
        "colab": {
          "base_uri": "https://localhost:8080/"
        },
        "id": "izlUrpxQSIvZ",
        "outputId": "68d472db-c656-49f6-cca2-ccf2bd8a575b"
      },
      "execution_count": 121,
      "outputs": [
        {
          "output_type": "stream",
          "name": "stdout",
          "text": [
            "\n",
            "SVM Best Parameters: {'C': 5, 'kernel': 'linear'}\n",
            "SVM Best Score: 0.9798999165971644\n"
          ]
        }
      ]
    },
    {
      "cell_type": "markdown",
      "source": [
        "**Fitting the best hyperparameters values and checking the performance of the model**"
      ],
      "metadata": {
        "id": "P9PXt2pMXArN"
      }
    },
    {
      "cell_type": "code",
      "source": [
        "best_svm = SVC(C=svm_grid_search.best_params_['C'],\n",
        "               kernel=svm_grid_search.best_params_['kernel'])\n",
        "best_svm.fit(X_train_vec, y_train)\n",
        "svm_test_predictions = best_svm.predict(X_test_vec)\n",
        "svm_test_accuracy = accuracy_score(y_test, svm_test_predictions)\n",
        "svm_test_precision = precision_score(y_test, svm_test_predictions)\n",
        "svm_test_recall = recall_score(y_test, svm_test_predictions)\n",
        "\n",
        "print(\"\\nSVM Validation Metrics:\")\n",
        "print(\"Accuracy:\", svm_test_accuracy)\n",
        "print(\"Precision:\", svm_test_precision)\n",
        "print(\"Recall:\", svm_test_recall)\n",
        "# Confusion Matrix\n",
        "conf_matrix = confusion_matrix(y_test, svm_test_predictions)\n",
        "print(\"\\nConfusion Matrix:\")\n",
        "print(conf_matrix)"
      ],
      "metadata": {
        "colab": {
          "base_uri": "https://localhost:8080/"
        },
        "id": "hhOFoE75SMJa",
        "outputId": "97716b86-0a2c-4728-af7f-a4de177d3e69"
      },
      "execution_count": 123,
      "outputs": [
        {
          "output_type": "stream",
          "name": "stdout",
          "text": [
            "\n",
            "SVM Validation Metrics:\n",
            "Accuracy: 0.9926873857404022\n",
            "Precision: 0.9902597402597403\n",
            "Recall: 0.9967320261437909\n",
            "\n",
            "Confusion Matrix:\n",
            "[[238   3]\n",
            " [  1 305]]\n"
          ]
        }
      ]
    },
    {
      "cell_type": "markdown",
      "source": [
        "**From the Above 3 models, the performance of Support Vector Machine is better than Random Forest and Logistic Regression**"
      ],
      "metadata": {
        "id": "5Nz2fk2SbpEv"
      }
    }
  ]
}